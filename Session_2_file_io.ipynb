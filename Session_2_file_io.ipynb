{
 "cells": [
  {
   "cell_type": "markdown",
   "metadata": {},
   "source": [
    "# FILE I/O and Context Manager"
   ]
  },
  {
   "cell_type": "markdown",
   "metadata": {},
   "source": [
    "## Open the file"
   ]
  },
  {
   "cell_type": "markdown",
   "metadata": {},
   "source": [
    "### Reading Mode"
   ]
  },
  {
   "cell_type": "code",
   "execution_count": 1,
   "metadata": {},
   "outputs": [
    {
     "data": {
      "text/plain": [
       "<_io.TextIOWrapper name='file.txt' mode='r' encoding='cp1252'>"
      ]
     },
     "metadata": {},
     "output_type": "display_data"
    },
    {
     "name": "stdout",
     "output_type": "stream",
     "text": [
      "<class '_io.TextIOWrapper'>\n"
     ]
    }
   ],
   "source": [
    "# The original file path\n",
    "file_name = \"file.txt\"\n",
    "\n",
    "# Open the file and return file object to be used\n",
    "file_object = open(file=file_name, mode='r') # Reading mode\n",
    "\n",
    "display(file_object)\n",
    "print(type(file_object))"
   ]
  },
  {
   "cell_type": "markdown",
   "metadata": {},
   "source": [
    "### Writing Mode"
   ]
  },
  {
   "cell_type": "code",
   "execution_count": 2,
   "metadata": {},
   "outputs": [
    {
     "data": {
      "text/plain": [
       "<_io.TextIOWrapper name='file.txt' mode='w' encoding='cp1252'>"
      ]
     },
     "metadata": {},
     "output_type": "display_data"
    },
    {
     "name": "stdout",
     "output_type": "stream",
     "text": [
      "<class '_io.TextIOWrapper'>\n"
     ]
    }
   ],
   "source": [
    "# The original file path\n",
    "file_name = \"file.txt\"\n",
    "\n",
    "# Open the file and return file object to be used\n",
    "file_object = open(file=file_name, mode='w') # Writing mode\n",
    "\n",
    "display(file_object)\n",
    "print(type(file_object))"
   ]
  },
  {
   "cell_type": "markdown",
   "metadata": {},
   "source": [
    "### Appending Mode"
   ]
  },
  {
   "cell_type": "code",
   "execution_count": 3,
   "metadata": {},
   "outputs": [
    {
     "data": {
      "text/plain": [
       "<_io.TextIOWrapper name='file.txt' mode='a' encoding='cp1252'>"
      ]
     },
     "metadata": {},
     "output_type": "display_data"
    },
    {
     "name": "stdout",
     "output_type": "stream",
     "text": [
      "<class '_io.TextIOWrapper'>\n"
     ]
    }
   ],
   "source": [
    "# The original file path\n",
    "file_name = \"file.txt\"\n",
    "\n",
    "# Open the file and return file object to be used\n",
    "file_object = open(file=file_name, mode='a') # Appending mode\n",
    "\n",
    "display(file_object)\n",
    "print(type(file_object))"
   ]
  },
  {
   "cell_type": "markdown",
   "metadata": {},
   "source": [
    "## Closing the file"
   ]
  },
  {
   "cell_type": "code",
   "execution_count": 72,
   "metadata": {},
   "outputs": [],
   "source": [
    "file_name = \"file.txt\"\n",
    "file_object = open(file=file_name)\n",
    "\n",
    "file_object.close()\n",
    "# Now you can't access file again\n",
    "\n",
    "# file_object.read() # Error"
   ]
  },
  {
   "cell_type": "markdown",
   "metadata": {},
   "source": [
    "## Reading from file\n",
    "- File Must be exist"
   ]
  },
  {
   "cell_type": "code",
   "execution_count": 32,
   "metadata": {},
   "outputs": [],
   "source": [
    "# The original file path\n",
    "file_name = \"file.txt\""
   ]
  },
  {
   "cell_type": "code",
   "execution_count": 33,
   "metadata": {},
   "outputs": [
    {
     "data": {
      "text/plain": [
       "True"
      ]
     },
     "execution_count": 33,
     "metadata": {},
     "output_type": "execute_result"
    }
   ],
   "source": [
    "file_object = open(file=file_name, mode='r') # Reading mode\n",
    "\n",
    "# Check if we can read from the file\n",
    "file_object.readable()\n",
    "\n",
    "# DON'T FORGET TO CLOSE THE FILE\n",
    "file_object.close()"
   ]
  },
  {
   "cell_type": "code",
   "execution_count": 34,
   "metadata": {},
   "outputs": [
    {
     "data": {
      "text/plain": [
       "'Hello, World!\\nHello, Python!\\n'"
      ]
     },
     "execution_count": 34,
     "metadata": {},
     "output_type": "execute_result"
    }
   ],
   "source": [
    "file_object = open(file=file_name, mode='r') # Reading mode\n",
    "# Read all file content as a string\n",
    "file_object.read()\n",
    "\n",
    "# DON'T FORGET TO CLOSE THE FILE\n",
    "file_object.close()"
   ]
  },
  {
   "cell_type": "code",
   "execution_count": 35,
   "metadata": {},
   "outputs": [
    {
     "data": {
      "text/plain": [
       "['Hello, World!\\n', 'Hello, Python!\\n']"
      ]
     },
     "execution_count": 35,
     "metadata": {},
     "output_type": "execute_result"
    }
   ],
   "source": [
    "file_object = open(file=file_name, mode='r') # Reading mode\n",
    "# Read all file content as a list of lines\n",
    "file_object.readlines()\n",
    "\n",
    "# DON'T FORGET TO CLOSE THE FILE\n",
    "file_object.close()"
   ]
  },
  {
   "cell_type": "code",
   "execution_count": 36,
   "metadata": {},
   "outputs": [
    {
     "data": {
      "text/plain": [
       "'Hello, World!\\n'"
      ]
     },
     "metadata": {},
     "output_type": "display_data"
    },
    {
     "data": {
      "text/plain": [
       "'Hello, Python!\\n'"
      ]
     },
     "metadata": {},
     "output_type": "display_data"
    }
   ],
   "source": [
    "file_object = open(file=file_name, mode='r') # Reading mode\n",
    "\n",
    "# Read line by line\n",
    "display(file_object.readline())\n",
    "\n",
    "# Read line by line\n",
    "display(file_object.readline())\n",
    "\n",
    "# DON'T FORGET TO CLOSE THE FILE\n",
    "file_object.close()"
   ]
  },
  {
   "cell_type": "code",
   "execution_count": 37,
   "metadata": {},
   "outputs": [
    {
     "data": {
      "text/plain": [
       "'Hello, World!\\n'"
      ]
     },
     "metadata": {},
     "output_type": "display_data"
    },
    {
     "data": {
      "text/plain": [
       "'Hello, Python!\\n'"
      ]
     },
     "metadata": {},
     "output_type": "display_data"
    }
   ],
   "source": [
    "file_object = open(file=file_name, mode='r') # Reading mode\n",
    "\n",
    "# Read line by line using for loop\n",
    "for line in file_object.readlines():\n",
    "    display(line)\n",
    "\n",
    "# DON'T FORGET TO CLOSE THE FILE\n",
    "file_object.close()"
   ]
  },
  {
   "cell_type": "markdown",
   "metadata": {},
   "source": [
    "## Writing to file\n",
    "- File Doesn't need to exist"
   ]
  },
  {
   "cell_type": "code",
   "execution_count": 61,
   "metadata": {},
   "outputs": [],
   "source": [
    "# The original file path\n",
    "file_name = \"file.txt\""
   ]
  },
  {
   "cell_type": "code",
   "execution_count": 62,
   "metadata": {},
   "outputs": [
    {
     "data": {
      "text/plain": [
       "True"
      ]
     },
     "execution_count": 62,
     "metadata": {},
     "output_type": "execute_result"
    }
   ],
   "source": [
    "file_object = open(file=file_name, mode='w') # Reading mode\n",
    "\n",
    "# Check if we can write to the file\n",
    "file_object.writable()\n",
    "\n",
    "# DON'T FORGET TO CLOSE THE FILE\n",
    "file_object.close()"
   ]
  },
  {
   "cell_type": "code",
   "execution_count": 63,
   "metadata": {},
   "outputs": [
    {
     "data": {
      "text/plain": [
       "19"
      ]
     },
     "metadata": {},
     "output_type": "display_data"
    }
   ],
   "source": [
    "file_object = open(file=file_name, mode='w') # Reading mode\n",
    "\n",
    "# Write to the file\n",
    "# Takes one string\n",
    "display(file_object.write(\"This is a new line.\")) # Returns the number of characters written to the file\n",
    "\n",
    "# flush to put the line written immediately\n",
    "file_object.flush()\n",
    "\n",
    "# DON'T FORGET TO CLOSE THE FILE\n",
    "file_object.close()"
   ]
  },
  {
   "cell_type": "code",
   "execution_count": 64,
   "metadata": {},
   "outputs": [],
   "source": [
    "file_object = open(file=file_name, mode='w') # Reading mode\n",
    "# Write more than one line\n",
    "lines = [\"Line 1\\n\", \"Line 2\\n\", \"Line 3\\n\"]\n",
    "file_object.writelines(lines)\n",
    "\n",
    "file_object.flush()\n",
    "\n",
    "# DON'T FORGET TO CLOSE THE FILE\n",
    "file_object.close()"
   ]
  },
  {
   "cell_type": "markdown",
   "metadata": {},
   "source": [
    "## Appending to file\n",
    "- File Doesn't need to exist"
   ]
  },
  {
   "cell_type": "code",
   "execution_count": 69,
   "metadata": {},
   "outputs": [],
   "source": [
    "# The original file path\n",
    "file_name = \"file.txt\""
   ]
  },
  {
   "cell_type": "code",
   "execution_count": 70,
   "metadata": {},
   "outputs": [],
   "source": [
    "file_object = open(file=file_name, mode='a') # Appending mode\n",
    "\n",
    "file_object.write(\"Line 4\\n\")\n",
    "\n",
    "file_object.flush()\n",
    "\n",
    "# DON'T FORGET TO CLOSE THE FILE\n",
    "file_object.close()"
   ]
  },
  {
   "cell_type": "code",
   "execution_count": 71,
   "metadata": {},
   "outputs": [],
   "source": [
    "file_object = open(file=file_name, mode='a') # Appending mode\n",
    "\n",
    "lines = [\"Line 5\\n\", \"Line 6\\n\", \"Line 7\\n\"]\n",
    "file_object.writelines(lines)\n",
    "\n",
    "file_object.flush()\n",
    "\n",
    "# DON'T FORGET TO CLOSE THE FILE\n",
    "file_object.close()"
   ]
  },
  {
   "cell_type": "markdown",
   "metadata": {},
   "source": [
    "## Context Manager"
   ]
  },
  {
   "cell_type": "markdown",
   "metadata": {},
   "source": [
    "Why do even i should care?? `Just do it for me!!`  \n",
    "![alt text](close_the_file.png)"
   ]
  },
  {
   "cell_type": "markdown",
   "metadata": {},
   "source": [
    "**Why use a context manager?**  \n",
    "When working with resources like files, network connections, or database connections, it's important to release them (close the file, close the connection) when you're done. A context manager simplifies this by automatically handling setup and cleanup tasks."
   ]
  },
  {
   "cell_type": "code",
   "execution_count": 75,
   "metadata": {},
   "outputs": [],
   "source": [
    "with open(\"file.txt\", \"w\") as file_object:\n",
    "    # Do all your work on the file here\n",
    "    # and don't care about closing or cleaning anything\n",
    "    file_object.write(\"Hello, world!\")\n",
    "\n",
    "# Now no need to close the file, It's already closed 🥳\n",
    "# file_object.read() # Error"
   ]
  }
 ],
 "metadata": {
  "kernelspec": {
   "display_name": "ml-env",
   "language": "python",
   "name": "python3"
  },
  "language_info": {
   "codemirror_mode": {
    "name": "ipython",
    "version": 3
   },
   "file_extension": ".py",
   "mimetype": "text/x-python",
   "name": "python",
   "nbconvert_exporter": "python",
   "pygments_lexer": "ipython3",
   "version": "3.11.9"
  }
 },
 "nbformat": 4,
 "nbformat_minor": 2
}
