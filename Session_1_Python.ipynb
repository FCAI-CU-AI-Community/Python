{
  "nbformat": 4,
  "nbformat_minor": 0,
  "metadata": {
    "colab": {
      "provenance": []
    },
    "kernelspec": {
      "name": "python3",
      "display_name": "Python 3"
    },
    "language_info": {
      "name": "python"
    }
  },
  "cells": [
    {
      "cell_type": "markdown",
      "source": [
        "\n",
        "# Outline:\n",
        "- [print](#print)\n",
        "- [Variables](#var)\n",
        "- [conditions](#if)\n",
        "- [Operators](#opr)\n",
        "- [string](#str)\n",
        "- [List](#lst)\n",
        "- [loops](#loop)\n",
        "- [Tuples](#Tuple)\n",
        "- [sets](#set)\n",
        "- [Dictionaries](#Dict)\n",
        "- [fun](#Functions)\n"
      ],
      "metadata": {
        "id": "Bz0Yb-c9kO_h"
      }
    },
    {
      "cell_type": "markdown",
      "source": [
        "## <a name=\"print\">Started<a>\n"
      ],
      "metadata": {
        "id": "7rP9DpVBkd4d"
      }
    },
    {
      "cell_type": "code",
      "execution_count": null,
      "metadata": {
        "colab": {
          "base_uri": "https://localhost:8080/"
        },
        "id": "RA2b-LoXLrRT",
        "outputId": "b9e18fb8-db93-4d92-b45b-6eaa5cfcc881"
      },
      "outputs": [
        {
          "output_type": "stream",
          "name": "stdout",
          "text": [
            "Hello, world!\n",
            "42\n",
            "True\n",
            "The answer is 42\n",
            "a b c d\n",
            "25\n",
            "my name\n"
          ]
        }
      ],
      "source": [
        "print(\"Hello, world!\")\n",
        "print(42)\n",
        "print(True)\n",
        "print(\"The answer is\", 42)\n",
        "print(\"a\",\"b\",\"c\",\"d\")\n",
        "print(10+15)\n",
        "print(\"my\" + \" name\")"
      ]
    },
    {
      "cell_type": "code",
      "source": [
        "print(5+3)\n",
        "print(5-3)\n",
        "print(5*3)\n",
        "print(5/3)\n",
        "print(5//3)\n",
        "print(5%3)\n",
        "print(5**3)"
      ],
      "metadata": {
        "colab": {
          "base_uri": "https://localhost:8080/"
        },
        "id": "FEFok6JBMuLd",
        "outputId": "7595e6a6-fefc-46fb-b883-bd63c62f7dbb"
      },
      "execution_count": null,
      "outputs": [
        {
          "output_type": "stream",
          "name": "stdout",
          "text": [
            "8\n",
            "2\n",
            "15\n",
            "1.6666666666666667\n",
            "1\n",
            "2\n",
            "125\n"
          ]
        }
      ]
    },
    {
      "cell_type": "code",
      "source": [],
      "metadata": {
        "id": "N4W7VNZ5NnZF"
      },
      "execution_count": null,
      "outputs": []
    },
    {
      "cell_type": "markdown",
      "source": [
        "## <a name=\"var\">Variables<a>\n"
      ],
      "metadata": {
        "id": "xQsoWW9pkp5V"
      }
    },
    {
      "cell_type": "markdown",
      "source": [
        "**Variable Naming Rules**<br>\n",
        "\n",
        "-----\n",
        "\n",
        "When naming variables, follow these rules:<br>\n",
        "\n",
        "- Names can contain letters (a-z, A-Z), digits (0-9), and underscores (_).<br>\n",
        "- Names cannot start with a digit.<br>\n",
        "- Names are case-sensitive (e.g., name and Name are different).<br>\n",
        "- Avoid using Python's reserved keywords (if, for, while, not, in, etc.)<br>\n",
        "\n",
        "**Dynamic Typing**\n",
        "\n",
        "--------------\n",
        "you don’t need to declare the data type of a variable. The type is determined at runtime based on the value assigned."
      ],
      "metadata": {
        "id": "TOKV0ER5N4hB"
      }
    },
    {
      "cell_type": "code",
      "source": [
        "# variable_name = value\n",
        "\n",
        "\n",
        "first_name = \"John\"        # A string\n",
        "age = 30                   # An integer\n",
        "user1_score = 95.5         # A float\n",
        "is_active = True           # A boolean\n",
        "\n",
        "\n",
        "# data types ----> # int ,float, bool, string, list, tuple, set, dic, range, NoneType, complex\n",
        "\n",
        "print(type(first_name))\n",
        "print(type(age))\n",
        "print(type(user1_score))\n",
        "print(type(is_active))\n",
        "print()\n",
        "print(isinstance(age, float))\n",
        "print(isinstance(first_name, str))\n",
        "print(isinstance(is_active, bool))"
      ],
      "metadata": {
        "colab": {
          "base_uri": "https://localhost:8080/"
        },
        "id": "GgFe_XDXNnVe",
        "outputId": "85c4eafe-39e0-4398-8010-a1bcf96f93ea"
      },
      "execution_count": null,
      "outputs": [
        {
          "output_type": "stream",
          "name": "stdout",
          "text": [
            "<class 'str'>\n",
            "<class 'int'>\n",
            "<class 'float'>\n",
            "<class 'bool'>\n",
            "\n",
            "False\n",
            "True\n",
            "True\n"
          ]
        }
      ]
    },
    {
      "cell_type": "markdown",
      "source": [
        "**type casting**"
      ],
      "metadata": {
        "id": "yCtZzSp0RZLT"
      }
    },
    {
      "cell_type": "code",
      "source": [
        "# Converting to an integer\n",
        "num_float = 10.75\n",
        "print( int(num_float))   # Result: 10\n",
        "num_str = \"123\"\n",
        "print(int(num_str))      # Result: 123\n",
        "name = \"John\"\n",
        "# num_int = int(name)    # Raises ValueError\n",
        "\n",
        "\n",
        "\n",
        "# Converting to an float\n",
        "num_str = \"123\" # num_str = 123\n",
        "print(float(num_str))      # Result: 123\n",
        "\n",
        "\n",
        "# Converting to a string\n",
        "num_int = 123\n",
        "print(str(num_int))      # Result: \"123\"\n",
        "num_float = 10.75\n",
        "print(str(num_float))    # Result: \"10.75\"\n",
        "\n",
        "\n",
        "\n",
        "# Converting to Boolean (bool)\n",
        "# zero -----> bool(0)=bool(0.0)= bool(None) = False\n",
        "# empty string (array)--- > bool(\"\")=bool([]) = False\n",
        "\n",
        "\n",
        "x = 10        # integer\n",
        "y = 5.5       # float\n",
        "result = x + y\n",
        "print(result)  # Output: 15.5\n",
        "\n",
        "\n",
        "\n"
      ],
      "metadata": {
        "colab": {
          "base_uri": "https://localhost:8080/"
        },
        "id": "w97HXpKEPDO8",
        "outputId": "36e30785-9c12-4c09-ce5d-8e2d869a22bc"
      },
      "execution_count": null,
      "outputs": [
        {
          "output_type": "stream",
          "name": "stdout",
          "text": [
            "10\n",
            "123\n",
            "123.0\n",
            "123\n",
            "10.75\n",
            "15.5\n"
          ]
        }
      ]
    },
    {
      "cell_type": "code",
      "source": [],
      "metadata": {
        "id": "_uvvCzKPPcyu"
      },
      "execution_count": null,
      "outputs": []
    },
    {
      "cell_type": "markdown",
      "source": [
        "## <a name=\"if\">conditions<a>\n",
        "\n",
        "\n",
        "\n"
      ],
      "metadata": {
        "id": "4h_18xI7Y6d9"
      }
    },
    {
      "cell_type": "markdown",
      "source": [
        "\n",
        "\n",
        "    if condition:\n",
        "           # code to execute if condition is true\n",
        "\n",
        "\n",
        "******           \n",
        "\n",
        "    if condition:\n",
        "           # code to execute if condition is true\n",
        "    else:\n",
        "           # code to execute if condition is false  \n",
        "\n",
        "******\n",
        "\n",
        "      if condition1:\n",
        "          # code for condition1\n",
        "      elif condition2:\n",
        "          # code for condition2\n",
        "      else:\n",
        "          # code if both conditions are false           \n",
        "\n",
        "\n"
      ],
      "metadata": {
        "id": "0b6Gc1EelnUW"
      }
    },
    {
      "cell_type": "code",
      "source": [
        "age = 18\n",
        "if age >= 18:\n",
        "    print(\"You are an adult.\")\n",
        "\n",
        "\n",
        "age = 16\n",
        "if age >= 18:\n",
        "    print(\"You are an adult.\")\n",
        "else:\n",
        "    print(\"You are not an adult yet.\")\n",
        "\n",
        "age = 25\n",
        "if age < 13:\n",
        "    print(\"You are a child.\")\n",
        "elif age < 18:\n",
        "    print(\"You are a teenager.\")\n",
        "else:\n",
        "    print(\"You are an adult.\")\n",
        "\n",
        "# Nested If Statements\n",
        "age = 22\n",
        "if age >= 18:\n",
        "    print(\"You are an adult.\")\n",
        "    if age >= 21:\n",
        "        print(\"You inside nested.\")\n",
        "else:\n",
        "    print(\"You are not an adult yet.\")"
      ],
      "metadata": {
        "colab": {
          "base_uri": "https://localhost:8080/"
        },
        "id": "dOb0yVOeY7GK",
        "outputId": "5b30d796-26c5-4f5e-8c86-71b2c70316af"
      },
      "execution_count": null,
      "outputs": [
        {
          "output_type": "stream",
          "name": "stdout",
          "text": [
            "You are an adult.\n",
            "You are not an adult yet.\n",
            "You are an adult.\n",
            "You are an adult.\n",
            "You inside nested.\n"
          ]
        }
      ]
    },
    {
      "cell_type": "code",
      "source": [
        "a=10\n",
        "b=50\n",
        "print(\"A\") if a>b else print(\"B\")\n",
        "\n",
        "a=10\n",
        "b=10\n",
        "print(\"A\") if a > b else print(\"=\") if a == b else print(\"B\")\n",
        "\n",
        "# print(\"A\" if a > b else \"=\" if a == b else \"B\") # the same\n",
        "\n",
        "\n",
        "if a==10:\n",
        "  pass\n",
        "else :\n",
        "  print(\"a not equal 10\")"
      ],
      "metadata": {
        "colab": {
          "base_uri": "https://localhost:8080/"
        },
        "id": "2nhvtx_EE3Bj",
        "outputId": "07661df0-f8bd-4293-af20-6e3134267c65"
      },
      "execution_count": null,
      "outputs": [
        {
          "output_type": "stream",
          "name": "stdout",
          "text": [
            "B\n",
            "=\n"
          ]
        }
      ]
    },
    {
      "cell_type": "markdown",
      "source": [
        "## <a name=\"opr\">Operators<a>\n",
        "\n"
      ],
      "metadata": {
        "id": "e8WkvwZnaJ0f"
      }
    },
    {
      "cell_type": "markdown",
      "source": [
        "- Arithmetic Operators (+, -, *, /, //, **, % )\n",
        "-  Assignment Operators (=, +=, *=, ....)\n",
        "-  Comparison Operators (==, !=, >, <, >=, <= )\n",
        "- Logical Operators (and, or, not)\n",
        "- Identity Operators (is, is not)\n",
        "- Membership Operators (in, not in)"
      ],
      "metadata": {
        "id": "PIm4YKNQlqPw"
      }
    },
    {
      "cell_type": "code",
      "source": [
        "x = 3\n",
        "x += 1\n",
        "print(x)  # 4\n",
        "print(3==7) # False\n",
        "print(3>=2) # True\n",
        "print()\n",
        "\n",
        "print(3>4 and 0<5) # False\n",
        "print(3>4 or 0<5) # True\n",
        "print()\n",
        "\n",
        "x = 3\n",
        "y = 4\n",
        "print(x is y) #  False\n",
        "print(x is not y) #True\n",
        "print()\n",
        "\n",
        "degrees = [1,2,3,4]\n",
        "x=1\n",
        "print(x in degrees) #True\n",
        "print(x not in degrees) # False"
      ],
      "metadata": {
        "colab": {
          "base_uri": "https://localhost:8080/"
        },
        "id": "MFRtd7SpZPl7",
        "outputId": "47ac85b4-d105-40fb-8f4b-a08bd2925b29"
      },
      "execution_count": null,
      "outputs": [
        {
          "output_type": "stream",
          "name": "stdout",
          "text": [
            "4\n",
            "False\n",
            "True\n",
            "\n",
            "False\n",
            "True\n",
            "\n",
            "False\n",
            "True\n",
            "\n",
            "True\n",
            "False\n"
          ]
        }
      ]
    },
    {
      "cell_type": "code",
      "source": [
        "degrees = [1,2,3,4]\n",
        "x=1\n",
        "\n",
        "if (x in degrees):\n",
        "  print(f\"{x} is in {degrees}\")\n",
        "else:\n",
        "  print(f\"{x} is not in {degrees}\")"
      ],
      "metadata": {
        "colab": {
          "base_uri": "https://localhost:8080/"
        },
        "id": "A4WZeU7Qa9_x",
        "outputId": "cc418a29-bd99-4780-c828-533ee63a97f4"
      },
      "execution_count": null,
      "outputs": [
        {
          "output_type": "stream",
          "name": "stdout",
          "text": [
            "1 is in [1, 2, 3, 4]\n"
          ]
        }
      ]
    },
    {
      "cell_type": "code",
      "source": [],
      "metadata": {
        "id": "-BEjGXJDcadQ"
      },
      "execution_count": null,
      "outputs": []
    },
    {
      "cell_type": "markdown",
      "source": [
        "## <a name=\"str\">string<a>\n",
        "\n",
        "\n"
      ],
      "metadata": {
        "id": "dpW0CbmNfxU1"
      }
    },
    {
      "cell_type": "markdown",
      "source": [
        "\n",
        "\n",
        "**Escape Sequences:**\n",
        "- \\n: Newline\n",
        "- \\t: Tab\n",
        "- \\\\: Backslash\n",
        "- \\': Single quote\n",
        "- \\\": Double quote"
      ],
      "metadata": {
        "id": "pP9yh6T-ls8v"
      }
    },
    {
      "cell_type": "code",
      "source": [
        "a = \"Hello\"\n",
        "\n",
        "# Multiline Strings\n",
        "multi_line_str = \"\"\"\n",
        "This is a multi-line string\n",
        "It can span multiple lines.\n",
        "You can include any text here.\"\"\"\n",
        "print(multi_line_str)"
      ],
      "metadata": {
        "colab": {
          "base_uri": "https://localhost:8080/"
        },
        "id": "werVTXy0fyci",
        "outputId": "8ff57e78-d16b-4560-b052-a838fba48631"
      },
      "execution_count": null,
      "outputs": [
        {
          "output_type": "stream",
          "name": "stdout",
          "text": [
            "\n",
            "This is a multi-line string\n",
            "It can span multiple lines.\n",
            "You can include any text here.\n"
          ]
        }
      ]
    },
    {
      "cell_type": "code",
      "source": [
        "single_quote_str = 'Hello, World!'\n",
        "double_quote_str = \"Hello, World!\"\n",
        "multi_line_str = \"\"\"This is a string\n",
        "that spans multiple lines.\"\"\"\n",
        "\n",
        "my_string = \" Hello, 'World!' \"  # # Hello, 'World!'\n",
        "\n",
        "\n",
        "my_string = ' Hello, \\'World!\\' '\n",
        "my_string = \" Hello, \\\"World!\\\" \"\n",
        "my_string = \" Hello, \\World\\ \"  # Hello, \\World\\\n",
        "print(my_string)\n",
        "print()\n",
        "\n",
        "raw_text = r\"Hello,\\nWorld!\"  # \\n will be treated as two characters, not a newline\n",
        "print(raw_text) # Hello,\\nWorld!"
      ],
      "metadata": {
        "colab": {
          "base_uri": "https://localhost:8080/"
        },
        "id": "3gb0kychf6IA",
        "outputId": "466c149e-3cf0-452e-a494-0073fdbc2749"
      },
      "execution_count": null,
      "outputs": [
        {
          "output_type": "stream",
          "name": "stdout",
          "text": [
            " Hello, \\World\\ \n",
            "\n",
            "Hello,\\nWorld!\n"
          ]
        }
      ]
    },
    {
      "cell_type": "code",
      "source": [
        "\n",
        "path = \"c:\\windows\\newfFolder\" # c:\\windows\n",
        "print(path)\n",
        "path = \"c:\\windows\\\\newfFolder\" # c:\\windows\n",
        "print(path)\n",
        "path = r\"c:\\windows\\newfFolder\" # c:\\windows\n",
        "print(path)"
      ],
      "metadata": {
        "colab": {
          "base_uri": "https://localhost:8080/"
        },
        "id": "X-TQCdWpgOrw",
        "outputId": "e8da8606-8670-4854-d2fa-0510fc6a7d33"
      },
      "execution_count": null,
      "outputs": [
        {
          "output_type": "stream",
          "name": "stdout",
          "text": [
            "c:\\windows\n",
            "ewfFolder\n",
            "c:\\windows\\newfFolder\n",
            "c:\\windows\\newfFolder\n"
          ]
        }
      ]
    },
    {
      "cell_type": "markdown",
      "source": [
        "**String slicing**\n",
        "substring = string[start:end:step]\n",
        "- start: The index where the slice starts (inclusive).\n",
        "- end: The index where the slice ends (exclusive).\n",
        "- step: The interval between each index in the slice (optional).\n",
        "\n",
        "\n"
      ],
      "metadata": {
        "id": "O5Zg-I1Di6_h"
      }
    },
    {
      "cell_type": "code",
      "source": [
        "s = \"Hello, World!\"\n",
        "print(s[0])  # H\n",
        "print(s[8])  # o\n",
        "print(s[-1]) # !\n",
        "print(s[-4]) # r\n",
        "print(s[9])  # r\n",
        "\n",
        "print(s[:])     # Hello, World!\n",
        "print(s[: :1])  # Hello, World!\n",
        "print(s[: :-1]) # !dlroW ,olleH"
      ],
      "metadata": {
        "colab": {
          "base_uri": "https://localhost:8080/"
        },
        "id": "ihkesojLhmcM",
        "outputId": "0357002f-7221-4c64-bb4f-be0e70c03f66"
      },
      "execution_count": null,
      "outputs": [
        {
          "output_type": "stream",
          "name": "stdout",
          "text": [
            "H\n",
            "o\n",
            "!\n",
            "r\n",
            "r\n",
            "Hello, World!\n",
            "Hello, World!\n",
            "!dlroW ,olleH\n"
          ]
        }
      ]
    },
    {
      "cell_type": "code",
      "source": [
        "# Hello, World!\n",
        "print(s[0:4])\n",
        "print(s[ :4])\n",
        "print()\n",
        "\n",
        "print(s[7:13]) # World!\n",
        "print(s[7: ]) # World!\n",
        "\n",
        "print(s[:-5])\n",
        "print(s[-3:])\n",
        "\n",
        "\n",
        "\n",
        "# print(s[15]) error (string index out of range)\n",
        "print(s[7:10])\n",
        "print(s[-5:-2])\n",
        "print(s[3:10:2])"
      ],
      "metadata": {
        "colab": {
          "base_uri": "https://localhost:8080/"
        },
        "id": "V7TtaMFHjPfW",
        "outputId": "1b9d11bd-afef-4fc3-d9b8-9d8836f47a1f"
      },
      "execution_count": null,
      "outputs": [
        {
          "output_type": "stream",
          "name": "stdout",
          "text": [
            "Hell\n",
            "Hell\n",
            "\n",
            "World!\n",
            "World!\n",
            "Hello, W\n",
            "ld!\n",
            "Wor\n",
            "orl\n",
            "l,Wr\n"
          ]
        }
      ]
    },
    {
      "cell_type": "code",
      "source": [
        "a = \"Hello\"\n",
        "b = \"World\"\n",
        "c = a + b\n",
        "print(c,\"\\n\") # HelloWorld\n",
        "\n",
        "c = a + \" \" + b\n",
        "print(c,\"\\n\") # Hello World\n",
        "\n",
        "\n",
        "age = 30\n",
        "name = \"mohammad\"\n",
        "# txt = \"My name is John, I am \" + age # error we cannot combine strings and numbers\n",
        "txt = f\"My name is mohammad, I am {age}\"\n",
        "print(txt)\n",
        "\n",
        "print(f\"My name is {name}, I am {age}.\")"
      ],
      "metadata": {
        "colab": {
          "base_uri": "https://localhost:8080/"
        },
        "id": "VRjx_N9mj2bD",
        "outputId": "324a51ce-943b-403f-af93-9dc3bdb4c54d"
      },
      "execution_count": null,
      "outputs": [
        {
          "output_type": "stream",
          "name": "stdout",
          "text": [
            "HelloWorld \n",
            "\n",
            "Hello World \n",
            "\n",
            "My name is mohammad, I am 30\n",
            "My name is mohammad, I am 30.\n"
          ]
        }
      ]
    },
    {
      "cell_type": "code",
      "source": [
        "# .capitalize()\tConverts the first character to upper case\n",
        "# .lower()\tConverts a string into lower case\n",
        "# .upper()\tConverts a string into upper case\n",
        "# .islower()\tReturns True if all characters in the string are lower case\n",
        "# .isupper()\tReturns True if all characters in the string are upper case\n",
        "# .startswith()\tReturns true if the string starts with the specified value\n",
        "# .endswith(\"str\")\tReturns true if the string ends with the specified value\n",
        "# .find(\"str\")\tSearches the (first)string for a specified value and returns the position of where it was found ,not found (-1)\n",
        "# .index()\t    Searches the (first)string for a specified value and returns the position of where it was found  ,not found (error)\n",
        "# .count(\"str\")\tReturns the number of times a specified value occurs in a string\n",
        "\n",
        "\n",
        "s = \"hello, world!\"\n",
        "\n",
        "s.capitalize() #  Hello, world!\n",
        "s.lower()   #  hello, world!\n",
        "s.upper()   # HELLO, WORLD!\n",
        "s.islower() # True\n",
        "s.isupper() # False\n",
        "s.startswith(\"helfhjdbvhd\") # False\n",
        "s.endswith(\"!\") # True\n",
        "s.find(\"Hello\") # -1\n",
        "# s.index(\"Hello\") # error\n",
        "s.find(\"hello\") # 0\n",
        "s.index(\"hello\") # 0\n",
        "s.find(\"l\") # 2\n",
        "s.index(\"l\") # 2\n",
        "s.count(\"l\") # 3\n",
        "\n",
        "\n",
        "try:\n",
        "  index = s.index(\"Hello\") # # will raise an error\n",
        "  print(index)\n",
        "except ValueError as e :\n",
        "  print(\"not found.........\" , f\"eror: {e}\")\n",
        "\n",
        "\n",
        "\n",
        "# split()\tSplits the string at the specified separator, and returns a list ['before sep'  ,  'after sep']\n",
        "# a.split(\"sep\")\n",
        "# split a string into three parts based on a specified separator.returns a tuple containing three elements:\n",
        "# (before the sep , sep , after the sep)\n",
        "# a.partition(\"llo\") # ('He' , 'llo' , ', World!')\n",
        "# strip()\tReturns the string after remove white spaces from left and right\n",
        "# a.replace(\"H\", \"J\") # replaces a string with another string any H will concert to J\n",
        "a = \"Hello, World!\"\n",
        "a.split()  # ['Hello,', 'World!']\n",
        "a.split(\"W\") # ['Hello, ', 'orld!']\n",
        "a.split(\",\") # ['Hello', ' World!']\n",
        "\n",
        "a.partition(\"W\") # ('Hello, ', 'W', 'orld!')\n",
        "a.partition(\"llo\") # ('  Hel', 'llo', ', World!  ')\n",
        "sorted(a) # [' ', '!', ',', 'H', 'W', 'd', 'e', 'l', 'l', 'l', 'o', 'o', 'r']\n",
        "b = list(a) # ['H', 'e', 'l', 'l', 'o', ',', ' ', 'W', 'o', 'r', 'l', 'd', '!']\n",
        "c = set (a) # {'H', 'e', 'l', 'o', ',', ' ', 'W', 'r', 'd', '!'} remove duplicate characters. (unique elements and do not care about the order)\n"
      ],
      "metadata": {
        "colab": {
          "base_uri": "https://localhost:8080/"
        },
        "id": "JU6ckpycmfUd",
        "outputId": "ac3a6b0a-0154-431e-ecba-fb032c104edb"
      },
      "execution_count": null,
      "outputs": [
        {
          "output_type": "stream",
          "name": "stdout",
          "text": [
            "not found......... eror: substring not found\n"
          ]
        }
      ]
    },
    {
      "cell_type": "markdown",
      "source": [
        "## <a name=\"lst\">List<a>\n"
      ],
      "metadata": {
        "id": "HskpFcKG_BY9"
      }
    },
    {
      "cell_type": "code",
      "source": [
        "lst = [1 ,2.3, \"Ahmad\", True, None, [1,2,3]]\n",
        "lst"
      ],
      "metadata": {
        "id": "9zkijPk_nseS",
        "colab": {
          "base_uri": "https://localhost:8080/"
        },
        "outputId": "4e3078f7-e751-47e0-fd30-9b37ec430032"
      },
      "execution_count": null,
      "outputs": [
        {
          "output_type": "execute_result",
          "data": {
            "text/plain": [
              "[1, 2.3, 'Ahmad', True, None, [1, 2, 3]]"
            ]
          },
          "metadata": {},
          "execution_count": 15
        }
      ]
    },
    {
      "cell_type": "code",
      "source": [
        "name = \"mohammad\"\n",
        "lst = list(name) # ['m', 'o', 'h', 'a', 'm', 'm', 'a', 'd']\n",
        "\n",
        "numbers = [1,2,3]\n",
        "numbers*3          #  [1, 2, 3, 1, 2, 3, 1, 2, 3]\n",
        "\n",
        "len(numbers) # 3\n",
        "sum(numbers) # 6"
      ],
      "metadata": {
        "colab": {
          "base_uri": "https://localhost:8080/"
        },
        "id": "atwOtS28_Q2b",
        "outputId": "8ebde8cf-c3ac-4191-ad7a-a7297f9713de"
      },
      "execution_count": null,
      "outputs": [
        {
          "output_type": "execute_result",
          "data": {
            "text/plain": [
              "6"
            ]
          },
          "metadata": {},
          "execution_count": 18
        }
      ]
    },
    {
      "cell_type": "code",
      "source": [
        "display(3)"
      ],
      "metadata": {
        "colab": {
          "base_uri": "https://localhost:8080/",
          "height": 34
        },
        "id": "qWcVMo7jBKjU",
        "outputId": "9daa9481-504c-44f3-86a6-c43facd32077"
      },
      "execution_count": null,
      "outputs": [
        {
          "output_type": "display_data",
          "data": {
            "text/plain": [
              "3"
            ]
          },
          "metadata": {}
        }
      ]
    },
    {
      "cell_type": "code",
      "source": [
        "lst=[\"a\",\"b\",\"c\",\"d\",\"e\",\"f\"]\n",
        "display(lst[0] )\n",
        "display(lst[3])\n",
        "display(lst[-1])\n",
        "display(lst[:1])  # return list\n",
        "display(lst[1:4])\n",
        "display(lst[4:])\n",
        "display(lst[1:5:2] )\n",
        "display(lst[::2])\n",
        "display(lst[::-1])"
      ],
      "metadata": {
        "colab": {
          "base_uri": "https://localhost:8080/",
          "height": 177
        },
        "id": "ja4sUA5w_bBb",
        "outputId": "315d52c7-4987-4d52-d697-7e867d5eaa6a"
      },
      "execution_count": null,
      "outputs": [
        {
          "output_type": "display_data",
          "data": {
            "text/plain": [
              "'a'"
            ],
            "application/vnd.google.colaboratory.intrinsic+json": {
              "type": "string"
            }
          },
          "metadata": {}
        },
        {
          "output_type": "display_data",
          "data": {
            "text/plain": [
              "'d'"
            ],
            "application/vnd.google.colaboratory.intrinsic+json": {
              "type": "string"
            }
          },
          "metadata": {}
        },
        {
          "output_type": "display_data",
          "data": {
            "text/plain": [
              "'f'"
            ],
            "application/vnd.google.colaboratory.intrinsic+json": {
              "type": "string"
            }
          },
          "metadata": {}
        },
        {
          "output_type": "display_data",
          "data": {
            "text/plain": [
              "['a']"
            ]
          },
          "metadata": {}
        },
        {
          "output_type": "display_data",
          "data": {
            "text/plain": [
              "['b', 'c', 'd']"
            ]
          },
          "metadata": {}
        },
        {
          "output_type": "display_data",
          "data": {
            "text/plain": [
              "['e', 'f']"
            ]
          },
          "metadata": {}
        },
        {
          "output_type": "display_data",
          "data": {
            "text/plain": [
              "['b', 'd']"
            ]
          },
          "metadata": {}
        },
        {
          "output_type": "display_data",
          "data": {
            "text/plain": [
              "['a', 'c', 'e']"
            ]
          },
          "metadata": {}
        },
        {
          "output_type": "display_data",
          "data": {
            "text/plain": [
              "['f', 'e', 'd', 'c', 'b', 'a']"
            ]
          },
          "metadata": {}
        }
      ]
    },
    {
      "cell_type": "code",
      "source": [
        "lst[0]=\" z\"\n",
        "display(lst) # [' z', 'b', 'c', 'd', 'e', 'f']\n",
        "\n",
        "lst[0]=[\"d\",\"g\"]\n",
        "display(lst)  # [['d', 'g'], 'b', 'c', 'd', 'e', 'f']\n",
        "\n",
        "lst[:5] = [\"x\", \"y\"]\n",
        "display(lst) # ['x', 'y', 'f']"
      ],
      "metadata": {
        "colab": {
          "base_uri": "https://localhost:8080/",
          "height": 69
        },
        "id": "_fB1b342As-r",
        "outputId": "148043df-7e2b-44c4-f610-2b7cb850d71a"
      },
      "execution_count": null,
      "outputs": [
        {
          "output_type": "display_data",
          "data": {
            "text/plain": [
              "[' z', 'b', 'c', 'd', 'e', 'f']"
            ]
          },
          "metadata": {}
        },
        {
          "output_type": "display_data",
          "data": {
            "text/plain": [
              "[['d', 'g'], 'b', 'c', 'd', 'e', 'f']"
            ]
          },
          "metadata": {}
        },
        {
          "output_type": "display_data",
          "data": {
            "text/plain": [
              "['x', 'y', 'f']"
            ]
          },
          "metadata": {}
        }
      ]
    },
    {
      "cell_type": "code",
      "source": [
        "lst=[\"a\",\"b\",\"c\",\"d\",\"e\",\"f\"]\n",
        "\n",
        "lst.insert(2,\"mohammad\")\n",
        "display(lst) # ['a', 'b', 'mohammad', 'c', 'd', 'e', 'f']\n",
        "\n",
        "lst.append(\"g\")\n",
        "display(lst) # ['a', 'b', 'c', 'd', 'e', 'f', 'g']\n",
        "lst2 = [\"1\",\"2\",\"3\"]\n",
        "lst.append(lst2)\n",
        "display(lst)   # ['a', 'b', 'mohammad', 'c', 'd', 'e', 'f', 'g', ['1', '2', '3']]\n",
        "\n",
        "\n",
        "lst=[\"a\",\"b\",\"c\",\"d\",\"e\",\"f\"]\n",
        "\n",
        "lst2 = [\"1\",\"2\",\"3\"]\n",
        "lst.extend(lst2)   # concat\n",
        "display(lst) # ['a', 'b', 'c', 'd', 'e', 'f', '1', '2', '3']\n",
        "\n",
        "\n",
        "lst.remove(\"1\")\n",
        "display(lst) # ['a', 'b', 'c', 'd', 'e', 'f', '2', '3']\n",
        "\n",
        "lst.pop()\n",
        "display(lst) # ['a', 'b', 'c', 'd', 'e', 'f', '2']\n",
        "lst.pop(0)  # del lst[0]\n",
        "display(lst) # ['b', 'c', 'd', 'e', 'f', '2']\n",
        "\n",
        "lst.clear()\n",
        "display(lst)\n",
        "\n",
        "del lst\n",
        "# display(lst)    # lst"
      ],
      "metadata": {
        "colab": {
          "base_uri": "https://localhost:8080/",
          "height": 156
        },
        "id": "KGkAwY7ZCXcc",
        "outputId": "ba8ee4f3-546c-401b-9b9d-0bbde029832a"
      },
      "execution_count": null,
      "outputs": [
        {
          "output_type": "display_data",
          "data": {
            "text/plain": [
              "['a', 'b', 'mohammad', 'c', 'd', 'e', 'f']"
            ]
          },
          "metadata": {}
        },
        {
          "output_type": "display_data",
          "data": {
            "text/plain": [
              "['a', 'b', 'mohammad', 'c', 'd', 'e', 'f', 'g']"
            ]
          },
          "metadata": {}
        },
        {
          "output_type": "display_data",
          "data": {
            "text/plain": [
              "['a', 'b', 'mohammad', 'c', 'd', 'e', 'f', 'g', ['1', '2', '3']]"
            ]
          },
          "metadata": {}
        },
        {
          "output_type": "display_data",
          "data": {
            "text/plain": [
              "['a', 'b', 'c', 'd', 'e', 'f', '1', '2', '3']"
            ]
          },
          "metadata": {}
        },
        {
          "output_type": "display_data",
          "data": {
            "text/plain": [
              "['a', 'b', 'c', 'd', 'e', 'f', '2', '3']"
            ]
          },
          "metadata": {}
        },
        {
          "output_type": "display_data",
          "data": {
            "text/plain": [
              "['a', 'b', 'c', 'd', 'e', 'f', '2']"
            ]
          },
          "metadata": {}
        },
        {
          "output_type": "display_data",
          "data": {
            "text/plain": [
              "['b', 'c', 'd', 'e', 'f', '2']"
            ]
          },
          "metadata": {}
        },
        {
          "output_type": "display_data",
          "data": {
            "text/plain": [
              "[]"
            ]
          },
          "metadata": {}
        }
      ]
    },
    {
      "cell_type": "markdown",
      "source": [
        "## <a name=\"loop\">loop<a>\n"
      ],
      "metadata": {
        "id": "IO64FqHYEqrd"
      }
    },
    {
      "cell_type": "code",
      "source": [
        "for i in range(10):\n",
        "  print(i)\n",
        "\n",
        "for i in range(2, 9):\n",
        "  print(i)"
      ],
      "metadata": {
        "colab": {
          "base_uri": "https://localhost:8080/"
        },
        "id": "yK82aH3dC7Dh",
        "outputId": "e23ff527-90c1-4e7a-e050-1cd9dfc23ae5"
      },
      "execution_count": null,
      "outputs": [
        {
          "output_type": "stream",
          "name": "stdout",
          "text": [
            "0\n",
            "1\n",
            "2\n",
            "3\n",
            "4\n",
            "5\n",
            "6\n",
            "7\n",
            "8\n",
            "9\n",
            "2\n",
            "3\n",
            "4\n",
            "5\n",
            "6\n",
            "7\n",
            "8\n"
          ]
        }
      ]
    },
    {
      "cell_type": "code",
      "source": [
        "display(range(10))  # range(0, 10)  from 0 to 9\n",
        "display(range(2,9))  # range(2, 9)  from 2 to 8\n",
        "display(range(2,9,2))  # range(2, 9, 2)  2 4 6 8 from 2 to 8 step 2\n",
        "\n"
      ],
      "metadata": {
        "colab": {
          "base_uri": "https://localhost:8080/",
          "height": 69
        },
        "id": "tARDGeNQF856",
        "outputId": "d81d278e-c91a-49c0-cdd3-d4568f0f821d"
      },
      "execution_count": null,
      "outputs": [
        {
          "output_type": "display_data",
          "data": {
            "text/plain": [
              "range(0, 10)"
            ]
          },
          "metadata": {}
        },
        {
          "output_type": "display_data",
          "data": {
            "text/plain": [
              "range(2, 9)"
            ]
          },
          "metadata": {}
        },
        {
          "output_type": "display_data",
          "data": {
            "text/plain": [
              "range(2, 9, 2)"
            ]
          },
          "metadata": {}
        }
      ]
    },
    {
      "cell_type": "code",
      "source": [
        "for x in range (6):\n",
        "  if x==3:\n",
        "    continue\n",
        "  else :\n",
        "    print(x)\n"
      ],
      "metadata": {
        "colab": {
          "base_uri": "https://localhost:8080/"
        },
        "id": "KOjUtw9rGhw7",
        "outputId": "daee5304-520b-4d1b-aa10-da3f6591fa8c"
      },
      "execution_count": null,
      "outputs": [
        {
          "output_type": "stream",
          "name": "stdout",
          "text": [
            "0\n",
            "1\n",
            "2\n",
            "4\n",
            "5\n"
          ]
        }
      ]
    },
    {
      "cell_type": "code",
      "source": [
        "lst = [1,2,3,4,5]\n",
        "for x in lst:\n",
        "  print(x)\n",
        "print(\"\\n\\n\")\n",
        "\n",
        "for i in range(len(lst)): # range(5) 0 1 2 3 4\n",
        "  print(lst[i])"
      ],
      "metadata": {
        "colab": {
          "base_uri": "https://localhost:8080/"
        },
        "id": "2nRq74cWGzu-",
        "outputId": "1330e204-7109-4acf-dd8c-b0d02c9b3063"
      },
      "execution_count": null,
      "outputs": [
        {
          "output_type": "stream",
          "name": "stdout",
          "text": [
            "1\n",
            "2\n",
            "3\n",
            "4\n",
            "5\n",
            "\n",
            "\n",
            "\n"
          ]
        },
        {
          "output_type": "execute_result",
          "data": {
            "text/plain": [
              "5"
            ]
          },
          "metadata": {},
          "execution_count": 69
        }
      ]
    },
    {
      "cell_type": "markdown",
      "source": [
        "## <a name=\"Tuple\">Tuples<a>\n",
        "\n"
      ],
      "metadata": {
        "id": "4pMc2MI5X_lD"
      }
    },
    {
      "cell_type": "markdown",
      "source": [
        "- ordered<br>\n",
        "- unchangeable(cannot change, add or remove items after the tuple has been created) <br>\n",
        "- allow duplicate values<br>\n",
        "- indexed<br>"
      ],
      "metadata": {
        "id": "iZKJm_2kmkZS"
      }
    },
    {
      "cell_type": "code",
      "source": [
        "t = (1,2,\"mohammad\", False,1)\n",
        "display(t)\n",
        "display(t[0])\n",
        "display(t[:4])\n",
        "display(t[1:4:2])\n",
        "display(t[::-1])\n",
        "print()\n",
        "\n",
        "\n",
        "display(t.count(1))\n",
        "display(t.index(\"mohammad\"))"
      ],
      "metadata": {
        "id": "K1hvmtokHDD1",
        "colab": {
          "base_uri": "https://localhost:8080/",
          "height": 156
        },
        "outputId": "ae0f248f-e793-476c-832c-499c207f4711"
      },
      "execution_count": null,
      "outputs": [
        {
          "output_type": "display_data",
          "data": {
            "text/plain": [
              "(1, 2, 'mohammad', False, 1)"
            ]
          },
          "metadata": {}
        },
        {
          "output_type": "display_data",
          "data": {
            "text/plain": [
              "1"
            ]
          },
          "metadata": {}
        },
        {
          "output_type": "display_data",
          "data": {
            "text/plain": [
              "(1, 2, 'mohammad', False)"
            ]
          },
          "metadata": {}
        },
        {
          "output_type": "display_data",
          "data": {
            "text/plain": [
              "(2, False)"
            ]
          },
          "metadata": {}
        },
        {
          "output_type": "display_data",
          "data": {
            "text/plain": [
              "(1, False, 'mohammad', 2, 1)"
            ]
          },
          "metadata": {}
        },
        {
          "output_type": "stream",
          "name": "stdout",
          "text": [
            "\n"
          ]
        },
        {
          "output_type": "display_data",
          "data": {
            "text/plain": [
              "2"
            ]
          },
          "metadata": {}
        },
        {
          "output_type": "display_data",
          "data": {
            "text/plain": [
              "2"
            ]
          },
          "metadata": {}
        }
      ]
    },
    {
      "cell_type": "code",
      "source": [
        "if \"mohammad \" in t:\n",
        "  print(\"I am in\")\n",
        "else:\n",
        "  print(\"I am not in\")"
      ],
      "metadata": {
        "colab": {
          "base_uri": "https://localhost:8080/"
        },
        "id": "YZ4Vlm1sYIoI",
        "outputId": "df6bb1c4-8be6-4a6d-f7ce-d3d3c1a2b13d"
      },
      "execution_count": null,
      "outputs": [
        {
          "output_type": "stream",
          "name": "stdout",
          "text": [
            "I am not in\n"
          ]
        }
      ]
    },
    {
      "cell_type": "code",
      "source": [
        "for i in t :\n",
        "  display(i)\n",
        "#------------------\n",
        "print( )\n",
        "#------------------\n",
        "for i in range(len(t)):\n",
        "  display(t[i])\n",
        "#------------------\n",
        "print( )\n",
        "i=0\n",
        "while (i<len(t)):\n",
        "  display(t[i])\n",
        "  i+=1"
      ],
      "metadata": {
        "colab": {
          "base_uri": "https://localhost:8080/",
          "height": 316
        },
        "id": "MZ0FahBYZZtD",
        "outputId": "40a56a3c-6572-4794-a51d-60e8e03a2717"
      },
      "execution_count": null,
      "outputs": [
        {
          "output_type": "display_data",
          "data": {
            "text/plain": [
              "1"
            ]
          },
          "metadata": {}
        },
        {
          "output_type": "display_data",
          "data": {
            "text/plain": [
              "2"
            ]
          },
          "metadata": {}
        },
        {
          "output_type": "display_data",
          "data": {
            "text/plain": [
              "'mohammad'"
            ],
            "application/vnd.google.colaboratory.intrinsic+json": {
              "type": "string"
            }
          },
          "metadata": {}
        },
        {
          "output_type": "display_data",
          "data": {
            "text/plain": [
              "False"
            ]
          },
          "metadata": {}
        },
        {
          "output_type": "display_data",
          "data": {
            "text/plain": [
              "1"
            ]
          },
          "metadata": {}
        },
        {
          "output_type": "stream",
          "name": "stdout",
          "text": [
            "\n"
          ]
        },
        {
          "output_type": "display_data",
          "data": {
            "text/plain": [
              "1"
            ]
          },
          "metadata": {}
        },
        {
          "output_type": "display_data",
          "data": {
            "text/plain": [
              "2"
            ]
          },
          "metadata": {}
        },
        {
          "output_type": "display_data",
          "data": {
            "text/plain": [
              "'mohammad'"
            ],
            "application/vnd.google.colaboratory.intrinsic+json": {
              "type": "string"
            }
          },
          "metadata": {}
        },
        {
          "output_type": "display_data",
          "data": {
            "text/plain": [
              "False"
            ]
          },
          "metadata": {}
        },
        {
          "output_type": "display_data",
          "data": {
            "text/plain": [
              "1"
            ]
          },
          "metadata": {}
        },
        {
          "output_type": "stream",
          "name": "stdout",
          "text": [
            "\n"
          ]
        },
        {
          "output_type": "display_data",
          "data": {
            "text/plain": [
              "1"
            ]
          },
          "metadata": {}
        },
        {
          "output_type": "display_data",
          "data": {
            "text/plain": [
              "2"
            ]
          },
          "metadata": {}
        },
        {
          "output_type": "display_data",
          "data": {
            "text/plain": [
              "'mohammad'"
            ],
            "application/vnd.google.colaboratory.intrinsic+json": {
              "type": "string"
            }
          },
          "metadata": {}
        },
        {
          "output_type": "display_data",
          "data": {
            "text/plain": [
              "False"
            ]
          },
          "metadata": {}
        },
        {
          "output_type": "display_data",
          "data": {
            "text/plain": [
              "1"
            ]
          },
          "metadata": {}
        }
      ]
    },
    {
      "cell_type": "code",
      "source": [
        "#  unchangeable(cannot change, add or remove items after the tuple has been created.) !!!!!!!!!!!!!!!!!!!!!!!\n",
        "\n",
        "t = (1,2,3,4,5,6)\n",
        "# convert the tuple into a list, change the list, and convert the list back into a tuple\n",
        "l = list(t)\n",
        "display(type(l))\n",
        "l[1] = \"Allam\"\n",
        "l.append(7)\n",
        "t = tuple(l)\n",
        "display(t)"
      ],
      "metadata": {
        "colab": {
          "base_uri": "https://localhost:8080/",
          "height": 52
        },
        "id": "gLi8FegVZlsk",
        "outputId": "515cd1d3-51b8-4e07-d393-e1397c3bd554"
      },
      "execution_count": null,
      "outputs": [
        {
          "output_type": "display_data",
          "data": {
            "text/plain": [
              "list"
            ]
          },
          "metadata": {}
        },
        {
          "output_type": "display_data",
          "data": {
            "text/plain": [
              "(1, 'Allam', 3, 4, 5, 6, 7)"
            ]
          },
          "metadata": {}
        }
      ]
    },
    {
      "cell_type": "code",
      "source": [
        "t1 = (1,2)\n",
        "t2 = (3,4)\n",
        "t3 = t1 + t2\n",
        "display(t3)\n",
        "display(t3 * 2)"
      ],
      "metadata": {
        "colab": {
          "base_uri": "https://localhost:8080/",
          "height": 52
        },
        "id": "W8dULZ9padXi",
        "outputId": "ce5f4e5e-8e30-4dfa-94cb-8604155616d2"
      },
      "execution_count": null,
      "outputs": [
        {
          "output_type": "display_data",
          "data": {
            "text/plain": [
              "(1, 2, 3, 4)"
            ]
          },
          "metadata": {}
        },
        {
          "output_type": "display_data",
          "data": {
            "text/plain": [
              "(1, 2, 3, 4, 1, 2, 3, 4)"
            ]
          },
          "metadata": {}
        }
      ]
    },
    {
      "cell_type": "code",
      "source": [
        "t1 = (1,2)\n",
        "t2 = (3,4)\n",
        "\n",
        "t1,t2 = t2,t1\n",
        "display(t1)\n",
        "display(t2)\n",
        "\n",
        "\n",
        "print()\n",
        "tmp = t1\n",
        "t2 = tmp\n",
        "t1 = t2\n",
        "display(t1)\n",
        "display(t2)\n",
        "\n",
        "\n"
      ],
      "metadata": {
        "colab": {
          "base_uri": "https://localhost:8080/",
          "height": 138
        },
        "id": "KnQLvgELakwB",
        "outputId": "93f12a54-1b21-4249-d106-e277cc1ce3f8"
      },
      "execution_count": null,
      "outputs": [
        {
          "output_type": "display_data",
          "data": {
            "text/plain": [
              "(3, 4)"
            ]
          },
          "metadata": {}
        },
        {
          "output_type": "display_data",
          "data": {
            "text/plain": [
              "(1, 2)"
            ]
          },
          "metadata": {}
        },
        {
          "output_type": "stream",
          "name": "stdout",
          "text": [
            "\n"
          ]
        },
        {
          "output_type": "display_data",
          "data": {
            "text/plain": [
              "(3, 4)"
            ]
          },
          "metadata": {}
        },
        {
          "output_type": "display_data",
          "data": {
            "text/plain": [
              "(3, 4)"
            ]
          },
          "metadata": {}
        },
        {
          "output_type": "display_data",
          "data": {
            "text/plain": [
              "(3, 4)"
            ]
          },
          "metadata": {}
        },
        {
          "output_type": "display_data",
          "data": {
            "text/plain": [
              "(3, 4)"
            ]
          },
          "metadata": {}
        }
      ]
    },
    {
      "cell_type": "markdown",
      "source": [
        "## <a name=\"set\">sets<a>\n",
        "\n",
        "\n",
        "\n"
      ],
      "metadata": {
        "id": "92hzxEqDb1FR"
      }
    },
    {
      "cell_type": "markdown",
      "source": [
        "- unordered\n",
        "- unchangeable\n",
        "- unindexed\n",
        "- noDuplicates\n",
        "Set items are unchangeable, but you can remove items and add new items.<br>\n",
        "sets are unordered, so you cannot be sure in which order the items will appear.<br>\n",
        "The values True and 1 are considered the same value in sets, and are treated as duplicates.<br>"
      ],
      "metadata": {
        "id": "9Pt2EWBUm6CZ"
      }
    },
    {
      "cell_type": "code",
      "source": [
        "s = {10,2,1,3,\"mohammad\",\"mohammad\",True,1}\n",
        "display(s)\n",
        "\n",
        "# display(s[0]) # 'set' object is not subscriptable\n",
        "# s[0] = \"mohammad\" # 'set' object does not support item assignment\n",
        "\n",
        "#----------------------------------\n",
        "s.add(\"3lllam\")\n",
        "#----------------------------------\n",
        "# s.remove(\"banana\")\n",
        "# If the item to remove does not exist, remove() will raise an error.\n",
        "if (\"banana\") in s:\n",
        "  s.remove(\"banana\")\n",
        "\n",
        "s.discard(\"banana\")\n",
        "# If the item to remove does not exist, discard() will NOT raise an error.\n",
        "#----------------------------------\n",
        "if \"ali\" not in s:\n",
        "  print(\"I am not in\")\n",
        "else:\n",
        "  print(\"I am in\")\n",
        "#----------------------------------\n",
        "#----------------------------------\n",
        "for i in s:\n",
        "  display(i)\n",
        "\n",
        "# for i in range(len(s)):\n",
        "#   display(s[i])\n",
        "\n",
        "# i=0\n",
        "# while(i < len(s)):\n",
        "#   display(s[i])\n",
        "#   i+=1\n",
        "\n",
        "\n",
        "s.clear()\n",
        "display(s)\n",
        "\n",
        "del s\n",
        "# display(s) # 'set' object is not defined"
      ],
      "metadata": {
        "colab": {
          "base_uri": "https://localhost:8080/",
          "height": 176
        },
        "id": "d_PjksSEbDI6",
        "outputId": "5759b6ba-cd15-4b42-d677-797c8f43b017"
      },
      "execution_count": null,
      "outputs": [
        {
          "output_type": "display_data",
          "data": {
            "text/plain": [
              "{1, 10, 2, 3, 'mohammad'}"
            ]
          },
          "metadata": {}
        },
        {
          "output_type": "stream",
          "name": "stdout",
          "text": [
            "I am not in\n"
          ]
        },
        {
          "output_type": "display_data",
          "data": {
            "text/plain": [
              "'mohammad'"
            ],
            "application/vnd.google.colaboratory.intrinsic+json": {
              "type": "string"
            }
          },
          "metadata": {}
        },
        {
          "output_type": "display_data",
          "data": {
            "text/plain": [
              "1"
            ]
          },
          "metadata": {}
        },
        {
          "output_type": "display_data",
          "data": {
            "text/plain": [
              "2"
            ]
          },
          "metadata": {}
        },
        {
          "output_type": "display_data",
          "data": {
            "text/plain": [
              "3"
            ]
          },
          "metadata": {}
        },
        {
          "output_type": "display_data",
          "data": {
            "text/plain": [
              "'3lllam'"
            ],
            "application/vnd.google.colaboratory.intrinsic+json": {
              "type": "string"
            }
          },
          "metadata": {}
        },
        {
          "output_type": "display_data",
          "data": {
            "text/plain": [
              "10"
            ]
          },
          "metadata": {}
        },
        {
          "output_type": "display_data",
          "data": {
            "text/plain": [
              "set()"
            ]
          },
          "metadata": {}
        }
      ]
    },
    {
      "cell_type": "code",
      "source": [
        "s1 = {1,2}\n",
        "s2= {3,4}\n",
        "s1.update(s2)\n",
        "display(s1,s2)"
      ],
      "metadata": {
        "colab": {
          "base_uri": "https://localhost:8080/",
          "height": 52
        },
        "id": "jqy04Ig8cPeF",
        "outputId": "a9ac6ab4-957c-4044-b675-aad044a33555"
      },
      "execution_count": null,
      "outputs": [
        {
          "output_type": "display_data",
          "data": {
            "text/plain": [
              "{1, 2, 3, 4}"
            ]
          },
          "metadata": {}
        },
        {
          "output_type": "display_data",
          "data": {
            "text/plain": [
              "{3, 4}"
            ]
          },
          "metadata": {}
        }
      ]
    },
    {
      "cell_type": "code",
      "source": [],
      "metadata": {
        "id": "93b5LXZDeqvI"
      },
      "execution_count": null,
      "outputs": []
    },
    {
      "cell_type": "markdown",
      "source": [
        "## <a name=\"Dict\">Dictionaries<a>\n",
        "\n",
        "\n"
      ],
      "metadata": {
        "id": "yTX3fgDfe1CJ"
      }
    },
    {
      "cell_type": "markdown",
      "source": [
        "- ordered\n",
        "- changeable\n",
        "- do not allow duplicates (keys)."
      ],
      "metadata": {
        "id": "JnukwDS1nA6u"
      }
    },
    {
      "cell_type": "code",
      "source": [
        "dic = {\n",
        "    \"name\" : \"Ali\",\n",
        "    \"age\" : 22,\n",
        "    \"city\" : \"cairo\",\n",
        "    \"isMarried\" : False,\n",
        "    \"skills\" : [\"html\",\"css\",\"js\"]\n",
        "\n",
        "}\n",
        "\n",
        "display(dic[\"name\"])  # display(dic.get(\"name\"))  the same\n",
        "display(dic[\"skills\"])\n",
        "display(dic[\"skills\"][1])"
      ],
      "metadata": {
        "colab": {
          "base_uri": "https://localhost:8080/",
          "height": 71
        },
        "id": "YY86m9eae6_b",
        "outputId": "167593a2-cf39-49ea-a26e-b33c7b114deb"
      },
      "execution_count": null,
      "outputs": [
        {
          "output_type": "display_data",
          "data": {
            "text/plain": [
              "'Ali'"
            ],
            "application/vnd.google.colaboratory.intrinsic+json": {
              "type": "string"
            }
          },
          "metadata": {}
        },
        {
          "output_type": "display_data",
          "data": {
            "text/plain": [
              "['html', 'css', 'js']"
            ]
          },
          "metadata": {}
        },
        {
          "output_type": "display_data",
          "data": {
            "text/plain": [
              "'css'"
            ],
            "application/vnd.google.colaboratory.intrinsic+json": {
              "type": "string"
            }
          },
          "metadata": {}
        }
      ]
    },
    {
      "cell_type": "code",
      "source": [
        "keys = dic.keys()  # return a list  any changes done to the dictionary will be reflected in the keys list\n",
        "display(keys)\n",
        "\n",
        "values = dic.values()\n",
        "display(values)"
      ],
      "metadata": {
        "colab": {
          "base_uri": "https://localhost:8080/",
          "height": 52
        },
        "id": "KYWQbT02fLbs",
        "outputId": "4546a8a3-6e7c-4fb0-a41b-f81f4a1994db"
      },
      "execution_count": null,
      "outputs": [
        {
          "output_type": "display_data",
          "data": {
            "text/plain": [
              "dict_keys(['name', 'age', 'city', 'isMarried', 'skills'])"
            ]
          },
          "metadata": {}
        },
        {
          "output_type": "display_data",
          "data": {
            "text/plain": [
              "dict_values(['Ali', 22, 'cairo', False, ['html', 'css', 'js']])"
            ]
          },
          "metadata": {}
        }
      ]
    },
    {
      "cell_type": "code",
      "source": [
        "dic[\"id\"] = \"22222\"\n",
        "display(keys)\n",
        "display(values)\n",
        "print()\n",
        "\n",
        "items = dic.items()\n",
        "display(items)"
      ],
      "metadata": {
        "colab": {
          "base_uri": "https://localhost:8080/",
          "height": 86
        },
        "id": "kQMllT6jfqih",
        "outputId": "27f28b10-8012-495c-8650-b8c8b2d16981"
      },
      "execution_count": null,
      "outputs": [
        {
          "output_type": "display_data",
          "data": {
            "text/plain": [
              "dict_keys(['name', 'age', 'city', 'isMarried', 'skills', 'id'])"
            ]
          },
          "metadata": {}
        },
        {
          "output_type": "display_data",
          "data": {
            "text/plain": [
              "dict_values(['Ali', 22, 'cairo', False, ['html', 'css', 'js'], '22222'])"
            ]
          },
          "metadata": {}
        },
        {
          "output_type": "stream",
          "name": "stdout",
          "text": [
            "\n"
          ]
        },
        {
          "output_type": "display_data",
          "data": {
            "text/plain": [
              "dict_items([('name', 'Ali'), ('age', 22), ('city', 'cairo'), ('isMarried', False), ('skills', ['html', 'css', 'js']), ('id', '22222')])"
            ]
          },
          "metadata": {}
        }
      ]
    },
    {
      "cell_type": "code",
      "source": [
        "dic[\"name\"] = \"allam\"         # if exist update else added\n",
        "dic.update({\"name\":\"allam\"})  #  # if exist update else added\n",
        "\n",
        "dic.pop(\"age\")  # remove key if not exis error\n",
        "# del dic[\"rrr\"]   # remove key if not exis error\n",
        "dic.popitem() # remove the last inserted item\n",
        "\n",
        "\n",
        "\n",
        "\n",
        "display(dic.get(\"jvhrfbyh\",-11))\n",
        "dic"
      ],
      "metadata": {
        "colab": {
          "base_uri": "https://localhost:8080/"
        },
        "id": "E58RbStigbgr",
        "outputId": "9f1e1756-74bf-48e0-da01-5ea82a7dbb17"
      },
      "execution_count": null,
      "outputs": [
        {
          "output_type": "execute_result",
          "data": {
            "text/plain": [
              "{'name': 'allam',\n",
              " 'city': 'cairo',\n",
              " 'isMarried': False,\n",
              " 'skills': ['html', 'css', 'js']}"
            ]
          },
          "metadata": {},
          "execution_count": 83
        }
      ]
    },
    {
      "cell_type": "code",
      "source": [
        "for i in dic:\n",
        "  display(i)   # keys\n",
        "for i in dic.keys():\n",
        "  display(i)   # keys\n",
        "\n",
        "\n",
        "print()\n",
        "for i in dic.values():\n",
        "  print(i)   # values\n",
        "\n",
        "\n",
        "print()\n",
        "for i in dic.items():\n",
        "  print(i)   # (key,value)\n",
        "  # print(i[0]) # key\n",
        "  # print(i[1]) # value\n",
        "\n",
        "for k,v in dic.items():\n",
        "  print(k,v)\n"
      ],
      "metadata": {
        "colab": {
          "base_uri": "https://localhost:8080/",
          "height": 339
        },
        "id": "5YkVk0P9g8ih",
        "outputId": "9c091255-7031-4ed9-8655-fe8c92fa4817"
      },
      "execution_count": null,
      "outputs": [
        {
          "output_type": "display_data",
          "data": {
            "text/plain": [
              "'name'"
            ],
            "application/vnd.google.colaboratory.intrinsic+json": {
              "type": "string"
            }
          },
          "metadata": {}
        },
        {
          "output_type": "display_data",
          "data": {
            "text/plain": [
              "'city'"
            ],
            "application/vnd.google.colaboratory.intrinsic+json": {
              "type": "string"
            }
          },
          "metadata": {}
        },
        {
          "output_type": "display_data",
          "data": {
            "text/plain": [
              "'isMarried'"
            ],
            "application/vnd.google.colaboratory.intrinsic+json": {
              "type": "string"
            }
          },
          "metadata": {}
        },
        {
          "output_type": "display_data",
          "data": {
            "text/plain": [
              "'skills'"
            ],
            "application/vnd.google.colaboratory.intrinsic+json": {
              "type": "string"
            }
          },
          "metadata": {}
        },
        {
          "output_type": "display_data",
          "data": {
            "text/plain": [
              "'name'"
            ],
            "application/vnd.google.colaboratory.intrinsic+json": {
              "type": "string"
            }
          },
          "metadata": {}
        },
        {
          "output_type": "display_data",
          "data": {
            "text/plain": [
              "'city'"
            ],
            "application/vnd.google.colaboratory.intrinsic+json": {
              "type": "string"
            }
          },
          "metadata": {}
        },
        {
          "output_type": "display_data",
          "data": {
            "text/plain": [
              "'isMarried'"
            ],
            "application/vnd.google.colaboratory.intrinsic+json": {
              "type": "string"
            }
          },
          "metadata": {}
        },
        {
          "output_type": "display_data",
          "data": {
            "text/plain": [
              "'skills'"
            ],
            "application/vnd.google.colaboratory.intrinsic+json": {
              "type": "string"
            }
          },
          "metadata": {}
        },
        {
          "output_type": "stream",
          "name": "stdout",
          "text": [
            "\n",
            "allam\n",
            "cairo\n",
            "False\n",
            "['html', 'css', 'js']\n",
            "\n",
            "('name', 'allam')\n",
            "('city', 'cairo')\n",
            "('isMarried', False)\n",
            "('skills', ['html', 'css', 'js'])\n"
          ]
        }
      ]
    },
    {
      "cell_type": "code",
      "source": [
        "d1 = dic\n",
        "\n",
        "d1[\"phone\"] = 11111111\n",
        "display(dic)\n",
        "display(d1)\n"
      ],
      "metadata": {
        "colab": {
          "base_uri": "https://localhost:8080/",
          "height": 191
        },
        "id": "UoOz37MFiNSf",
        "outputId": "c9376855-ba7f-43fe-fe15-77f050395ccb"
      },
      "execution_count": null,
      "outputs": [
        {
          "output_type": "display_data",
          "data": {
            "text/plain": [
              "{'name': 'allam',\n",
              " 'city': 'cairo',\n",
              " 'isMarried': False,\n",
              " 'skills': ['html', 'css', 'js'],\n",
              " 'phone': 11111111}"
            ]
          },
          "metadata": {}
        },
        {
          "output_type": "display_data",
          "data": {
            "text/plain": [
              "{'name': 'allam',\n",
              " 'city': 'cairo',\n",
              " 'isMarried': False,\n",
              " 'skills': ['html', 'css', 'js'],\n",
              " 'phone': 11111111}"
            ]
          },
          "metadata": {}
        }
      ]
    },
    {
      "cell_type": "code",
      "source": [
        "d1 = dic.copy()\n",
        "# d1 = dict(dic)  the same\n",
        "d1[\"children\"] = [\"a\",\"b\"]\n",
        "display(dic)\n",
        "display(d1)"
      ],
      "metadata": {
        "colab": {
          "base_uri": "https://localhost:8080/",
          "height": 208
        },
        "id": "P-L2TR37iv9o",
        "outputId": "271856d8-eb01-47e0-bf0f-9f18cd725402"
      },
      "execution_count": null,
      "outputs": [
        {
          "output_type": "display_data",
          "data": {
            "text/plain": [
              "{'name': 'allam',\n",
              " 'city': 'cairo',\n",
              " 'isMarried': False,\n",
              " 'skills': ['html', 'css', 'js'],\n",
              " 'phone': 11111111}"
            ]
          },
          "metadata": {}
        },
        {
          "output_type": "display_data",
          "data": {
            "text/plain": [
              "{'name': 'allam',\n",
              " 'city': 'cairo',\n",
              " 'isMarried': False,\n",
              " 'skills': ['html', 'css', 'js'],\n",
              " 'phone': 11111111,\n",
              " 'children': ['a', 'b']}"
            ]
          },
          "metadata": {}
        }
      ]
    },
    {
      "cell_type": "code",
      "source": [],
      "metadata": {
        "id": "cqYVTl19kI87"
      },
      "execution_count": null,
      "outputs": []
    },
    {
      "cell_type": "code",
      "source": [],
      "metadata": {
        "id": "keSAvwILkI5X"
      },
      "execution_count": null,
      "outputs": []
    },
    {
      "cell_type": "code",
      "source": [],
      "metadata": {
        "id": "05oBH4yQkI3H"
      },
      "execution_count": null,
      "outputs": []
    },
    {
      "cell_type": "markdown",
      "source": [
        "## <a name=\"fun\">Functions<a>\n"
      ],
      "metadata": {
        "id": "TNM49Oa8kJk_"
      }
    },
    {
      "cell_type": "code",
      "source": [
        "def divide(x, y):\n",
        "    try:\n",
        "        result = x / y\n",
        "    except ZeroDivisionError:\n",
        "        print(\"division by zero!\")\n",
        "    else:\n",
        "        print(\"result is\", result)\n",
        "    finally:\n",
        "        print(\"executing finally clause\")\n",
        "\n",
        "\n",
        "divide(1,2)"
      ],
      "metadata": {
        "colab": {
          "base_uri": "https://localhost:8080/"
        },
        "id": "lh3kjeJvjFJi",
        "outputId": "47da5b51-c5d5-419f-e6c9-0cf0ee1dfef3"
      },
      "execution_count": null,
      "outputs": [
        {
          "output_type": "stream",
          "name": "stdout",
          "text": [
            "division by zero!\n",
            "executing finally clause\n"
          ]
        }
      ]
    },
    {
      "cell_type": "code",
      "source": [],
      "metadata": {
        "id": "oXxkt39Hji4W"
      },
      "execution_count": null,
      "outputs": []
    }
  ]
}